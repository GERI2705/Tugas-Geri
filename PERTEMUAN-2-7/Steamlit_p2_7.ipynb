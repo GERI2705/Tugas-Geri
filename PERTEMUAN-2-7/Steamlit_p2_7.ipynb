{
  "nbformat": 4,
  "nbformat_minor": 0,
  "metadata": {
    "colab": {
      "provenance": []
    },
    "kernelspec": {
      "name": "python3",
      "display_name": "Python 3"
    },
    "language_info": {
      "name": "python"
    }
  },
  "cells": [
    {
      "cell_type": "markdown",
      "source": [
        "# **PERTEMUAN 2-7**\n"
      ],
      "metadata": {
        "id": "ruuBYyy8rE7b"
      }
    },
    {
      "cell_type": "markdown",
      "source": [
        "**P2**"
      ],
      "metadata": {
        "id": "u29YBnV4rP_q"
      }
    },
    {
      "cell_type": "code",
      "source": [
        "!pip install -q streamlit"
      ],
      "metadata": {
        "id": "uAJPGSBnrRBa"
      },
      "execution_count": 39,
      "outputs": []
    },
    {
      "cell_type": "code",
      "source": [
        "%%writefile requirments.txt\n",
        "streamlit"
      ],
      "metadata": {
        "colab": {
          "base_uri": "https://localhost:8080/"
        },
        "id": "J9ZhbaXErYVU",
        "outputId": "a05d399f-341e-4961-e1eb-58f95c306b3a"
      },
      "execution_count": 40,
      "outputs": [
        {
          "output_type": "stream",
          "name": "stdout",
          "text": [
            "Overwriting requirments.txt\n"
          ]
        }
      ]
    },
    {
      "cell_type": "code",
      "source": [
        "!pip install -r requirments.txt"
      ],
      "metadata": {
        "colab": {
          "base_uri": "https://localhost:8080/"
        },
        "id": "OglczGXkrgBR",
        "outputId": "d8ccc999-eb0c-4d59-b9a9-14237841167f"
      },
      "execution_count": 41,
      "outputs": [
        {
          "output_type": "stream",
          "name": "stdout",
          "text": [
            "Requirement already satisfied: streamlit in /usr/local/lib/python3.11/dist-packages (from -r requirments.txt (line 1)) (1.45.1)\n",
            "Requirement already satisfied: altair<6,>=4.0 in /usr/local/lib/python3.11/dist-packages (from streamlit->-r requirments.txt (line 1)) (5.5.0)\n",
            "Requirement already satisfied: blinker<2,>=1.5.0 in /usr/local/lib/python3.11/dist-packages (from streamlit->-r requirments.txt (line 1)) (1.9.0)\n",
            "Requirement already satisfied: cachetools<6,>=4.0 in /usr/local/lib/python3.11/dist-packages (from streamlit->-r requirments.txt (line 1)) (5.5.2)\n",
            "Requirement already satisfied: click<9,>=7.0 in /usr/local/lib/python3.11/dist-packages (from streamlit->-r requirments.txt (line 1)) (8.1.8)\n",
            "Requirement already satisfied: numpy<3,>=1.23 in /usr/local/lib/python3.11/dist-packages (from streamlit->-r requirments.txt (line 1)) (2.0.2)\n",
            "Requirement already satisfied: packaging<25,>=20 in /usr/local/lib/python3.11/dist-packages (from streamlit->-r requirments.txt (line 1)) (24.2)\n",
            "Requirement already satisfied: pandas<3,>=1.4.0 in /usr/local/lib/python3.11/dist-packages (from streamlit->-r requirments.txt (line 1)) (2.2.2)\n",
            "Requirement already satisfied: pillow<12,>=7.1.0 in /usr/local/lib/python3.11/dist-packages (from streamlit->-r requirments.txt (line 1)) (11.2.1)\n",
            "Requirement already satisfied: protobuf<7,>=3.20 in /usr/local/lib/python3.11/dist-packages (from streamlit->-r requirments.txt (line 1)) (5.29.4)\n",
            "Requirement already satisfied: pyarrow>=7.0 in /usr/local/lib/python3.11/dist-packages (from streamlit->-r requirments.txt (line 1)) (18.1.0)\n",
            "Requirement already satisfied: requests<3,>=2.27 in /usr/local/lib/python3.11/dist-packages (from streamlit->-r requirments.txt (line 1)) (2.32.3)\n",
            "Requirement already satisfied: tenacity<10,>=8.1.0 in /usr/local/lib/python3.11/dist-packages (from streamlit->-r requirments.txt (line 1)) (9.1.2)\n",
            "Requirement already satisfied: toml<2,>=0.10.1 in /usr/local/lib/python3.11/dist-packages (from streamlit->-r requirments.txt (line 1)) (0.10.2)\n",
            "Requirement already satisfied: typing-extensions<5,>=4.4.0 in /usr/local/lib/python3.11/dist-packages (from streamlit->-r requirments.txt (line 1)) (4.13.2)\n",
            "Requirement already satisfied: watchdog<7,>=2.1.5 in /usr/local/lib/python3.11/dist-packages (from streamlit->-r requirments.txt (line 1)) (6.0.0)\n",
            "Requirement already satisfied: gitpython!=3.1.19,<4,>=3.0.7 in /usr/local/lib/python3.11/dist-packages (from streamlit->-r requirments.txt (line 1)) (3.1.44)\n",
            "Requirement already satisfied: pydeck<1,>=0.8.0b4 in /usr/local/lib/python3.11/dist-packages (from streamlit->-r requirments.txt (line 1)) (0.9.1)\n",
            "Requirement already satisfied: tornado<7,>=6.0.3 in /usr/local/lib/python3.11/dist-packages (from streamlit->-r requirments.txt (line 1)) (6.4.2)\n",
            "Requirement already satisfied: jinja2 in /usr/local/lib/python3.11/dist-packages (from altair<6,>=4.0->streamlit->-r requirments.txt (line 1)) (3.1.6)\n",
            "Requirement already satisfied: jsonschema>=3.0 in /usr/local/lib/python3.11/dist-packages (from altair<6,>=4.0->streamlit->-r requirments.txt (line 1)) (4.23.0)\n",
            "Requirement already satisfied: narwhals>=1.14.2 in /usr/local/lib/python3.11/dist-packages (from altair<6,>=4.0->streamlit->-r requirments.txt (line 1)) (1.38.2)\n",
            "Requirement already satisfied: gitdb<5,>=4.0.1 in /usr/local/lib/python3.11/dist-packages (from gitpython!=3.1.19,<4,>=3.0.7->streamlit->-r requirments.txt (line 1)) (4.0.12)\n",
            "Requirement already satisfied: python-dateutil>=2.8.2 in /usr/local/lib/python3.11/dist-packages (from pandas<3,>=1.4.0->streamlit->-r requirments.txt (line 1)) (2.9.0.post0)\n",
            "Requirement already satisfied: pytz>=2020.1 in /usr/local/lib/python3.11/dist-packages (from pandas<3,>=1.4.0->streamlit->-r requirments.txt (line 1)) (2025.2)\n",
            "Requirement already satisfied: tzdata>=2022.7 in /usr/local/lib/python3.11/dist-packages (from pandas<3,>=1.4.0->streamlit->-r requirments.txt (line 1)) (2025.2)\n",
            "Requirement already satisfied: charset-normalizer<4,>=2 in /usr/local/lib/python3.11/dist-packages (from requests<3,>=2.27->streamlit->-r requirments.txt (line 1)) (3.4.2)\n",
            "Requirement already satisfied: idna<4,>=2.5 in /usr/local/lib/python3.11/dist-packages (from requests<3,>=2.27->streamlit->-r requirments.txt (line 1)) (3.10)\n",
            "Requirement already satisfied: urllib3<3,>=1.21.1 in /usr/local/lib/python3.11/dist-packages (from requests<3,>=2.27->streamlit->-r requirments.txt (line 1)) (2.4.0)\n",
            "Requirement already satisfied: certifi>=2017.4.17 in /usr/local/lib/python3.11/dist-packages (from requests<3,>=2.27->streamlit->-r requirments.txt (line 1)) (2025.4.26)\n",
            "Requirement already satisfied: smmap<6,>=3.0.1 in /usr/local/lib/python3.11/dist-packages (from gitdb<5,>=4.0.1->gitpython!=3.1.19,<4,>=3.0.7->streamlit->-r requirments.txt (line 1)) (5.0.2)\n",
            "Requirement already satisfied: MarkupSafe>=2.0 in /usr/local/lib/python3.11/dist-packages (from jinja2->altair<6,>=4.0->streamlit->-r requirments.txt (line 1)) (3.0.2)\n",
            "Requirement already satisfied: attrs>=22.2.0 in /usr/local/lib/python3.11/dist-packages (from jsonschema>=3.0->altair<6,>=4.0->streamlit->-r requirments.txt (line 1)) (25.3.0)\n",
            "Requirement already satisfied: jsonschema-specifications>=2023.03.6 in /usr/local/lib/python3.11/dist-packages (from jsonschema>=3.0->altair<6,>=4.0->streamlit->-r requirments.txt (line 1)) (2025.4.1)\n",
            "Requirement already satisfied: referencing>=0.28.4 in /usr/local/lib/python3.11/dist-packages (from jsonschema>=3.0->altair<6,>=4.0->streamlit->-r requirments.txt (line 1)) (0.36.2)\n",
            "Requirement already satisfied: rpds-py>=0.7.1 in /usr/local/lib/python3.11/dist-packages (from jsonschema>=3.0->altair<6,>=4.0->streamlit->-r requirments.txt (line 1)) (0.24.0)\n",
            "Requirement already satisfied: six>=1.5 in /usr/local/lib/python3.11/dist-packages (from python-dateutil>=2.8.2->pandas<3,>=1.4.0->streamlit->-r requirments.txt (line 1)) (1.17.0)\n"
          ]
        }
      ]
    },
    {
      "cell_type": "code",
      "source": [
        "%%writefile app.py"
      ],
      "metadata": {
        "colab": {
          "base_uri": "https://localhost:8080/"
        },
        "id": "PGK_O6jBrjzd",
        "outputId": "cb2d5f52-52b4-447f-eb60-0240eed8981d"
      },
      "execution_count": 42,
      "outputs": [
        {
          "output_type": "stream",
          "name": "stdout",
          "text": [
            "Overwriting app.py\n"
          ]
        }
      ]
    },
    {
      "cell_type": "code",
      "source": [
        "%%writefile Home.py\n",
        "import streamlit as st # import the streamlit library and assign it to the alias 'st'\n",
        "\n",
        "st.title(\"Pengembangan Machine Learning\")\n",
        "\n",
        "st.header(\"Pengembangan Machine Learning\")\n",
        "st.subheader(\"Menggunakan Machine Learning\")\n",
        "st.text(\"Selamat datang di aplikasi kami!\")"
      ],
      "metadata": {
        "colab": {
          "base_uri": "https://localhost:8080/"
        },
        "id": "HM_gNFn8rojA",
        "outputId": "2d7827fa-3541-43c2-d2d6-7159bc5d8aa0"
      },
      "execution_count": 43,
      "outputs": [
        {
          "output_type": "stream",
          "name": "stdout",
          "text": [
            "Overwriting Home.py\n"
          ]
        }
      ]
    },
    {
      "cell_type": "code",
      "source": [
        "%%writefile app.py\n",
        "import streamlit as st\n",
        "\n",
        "st.title(\"Pengembangan Machine Learning\")\n",
        "st.header(\"Pengembangan Machine Learning\")\n",
        "st.subheader(\"Menggunakan Machine Learning\")\n",
        "st.text(\"Selamat datang di aplikasi kami!\")\n",
        "\n",
        "name = st.text_input('Masukkan Nama Anda')\n",
        "if name:\n",
        "  st.write(f'Halo Apa Kabar {name}')"
      ],
      "metadata": {
        "colab": {
          "base_uri": "https://localhost:8080/"
        },
        "id": "yjJ3pRH4r3uo",
        "outputId": "0793c722-47ce-4ef6-bc16-055852ff0525"
      },
      "execution_count": 44,
      "outputs": [
        {
          "output_type": "stream",
          "name": "stdout",
          "text": [
            "Overwriting app.py\n"
          ]
        }
      ]
    },
    {
      "cell_type": "code",
      "source": [
        "!pwd"
      ],
      "metadata": {
        "colab": {
          "base_uri": "https://localhost:8080/"
        },
        "id": "dvWa0yE-r8gE",
        "outputId": "a1e04d50-368a-497c-8b04-6f6b14dc7048"
      },
      "execution_count": 45,
      "outputs": [
        {
          "output_type": "stream",
          "name": "stdout",
          "text": [
            "/content\n"
          ]
        }
      ]
    },
    {
      "cell_type": "code",
      "source": [
        "!ls"
      ],
      "metadata": {
        "colab": {
          "base_uri": "https://localhost:8080/"
        },
        "id": "X8J4zIYBsk4D",
        "outputId": "9ff4d05d-f343-4b10-fd64-00f33cfcd33b"
      },
      "execution_count": 46,
      "outputs": [
        {
          "output_type": "stream",
          "name": "stdout",
          "text": [
            "app.py\tHome.py   node_modules\tpackage-lock.json  requirments.txt\n",
            "drive\tlogs.txt  package.json\tpages\t\t   sample_data\n"
          ]
        }
      ]
    },
    {
      "cell_type": "code",
      "source": [
        "!mkdir pages"
      ],
      "metadata": {
        "colab": {
          "base_uri": "https://localhost:8080/"
        },
        "id": "h0kqK292snhR",
        "outputId": "11ff0aaa-cac1-48fd-aa02-60d01f15ea34"
      },
      "execution_count": 47,
      "outputs": [
        {
          "output_type": "stream",
          "name": "stdout",
          "text": [
            "mkdir: cannot create directory ‘pages’: File exists\n"
          ]
        }
      ]
    },
    {
      "cell_type": "code",
      "source": [
        "!ls"
      ],
      "metadata": {
        "colab": {
          "base_uri": "https://localhost:8080/"
        },
        "id": "fJSd4Bt0sqst",
        "outputId": "b3a5af54-cd15-4c7f-d5fc-44d862c06385"
      },
      "execution_count": 48,
      "outputs": [
        {
          "output_type": "stream",
          "name": "stdout",
          "text": [
            "app.py\tHome.py   node_modules\tpackage-lock.json  requirments.txt\n",
            "drive\tlogs.txt  package.json\tpages\t\t   sample_data\n"
          ]
        }
      ]
    },
    {
      "cell_type": "markdown",
      "source": [
        "**BUAT HALAMAN LAIN DI WEBSITE**\n"
      ],
      "metadata": {
        "id": "M0Gj8Nv9tA98"
      }
    },
    {
      "cell_type": "code",
      "source": [
        "!ls pages"
      ],
      "metadata": {
        "colab": {
          "base_uri": "https://localhost:8080/"
        },
        "id": "7zOJUrbJtB6Q",
        "outputId": "1ee06580-7573-4f16-9991-c1f280f8539a"
      },
      "execution_count": 49,
      "outputs": [
        {
          "output_type": "stream",
          "name": "stdout",
          "text": [
            "Pertemuan_2.py\t  Pertemuan_3_b.py  Pertemuan_4.py  Pertemuan_6.py\n",
            "Pertemuan_3_a.py  Pertemuan_3_c.py  Pertemuan_5.py  Pertemuan_7.py\n"
          ]
        }
      ]
    },
    {
      "cell_type": "code",
      "source": [
        "%%writefile pages/Pertemuan_2.py\n",
        "# 1. Menampilkan teks biasa\n",
        "import streamlit as st\n",
        "st.text(\"Selamat datang di aplikasi kami!\")\n",
        "\n",
        "# 2. Heading dan subheading\n",
        "st.title(\"Aplikasi Prediksi Kesegaran Ikan\")\n",
        "st.header(\"Fitur Utama\")\n",
        "st.subheader(\"Menggunakan Machine Learning\")\n",
        "\n",
        "# 3. Menggunakan markdown untuk format teks\n",
        "st.markdown(\"**Teks Tebal** dan *Teks Miring*\")\n",
        "st.markdown(\"> Ini adalah kutipan.\")\n",
        "st.markdown(\"- Item pertama\\n- Item kedua\\n- Item ketiga\")\n",
        "\n",
        "# 4. Menampilkan caption\n",
        "st.caption(\"Dikembangkan oleh Tim Data Science\")\n",
        "\n",
        "# 5. Menampilkan kode program\n",
        "st.code(\"\"\"\n",
        "def hello():\n",
        "    print(\"Hello, Streamlit!\")\n",
        "\"\"\", language=\"python\")\n",
        "\n",
        "# 6. Menampilkan rumus matematika dengan Latex\n",
        "st.latex(r\"\\int_a^b f(x)dx = F(b) - F(a)\")\n",
        "\n",
        "# 7. Menampilkan garis pemisah\n",
        "st.divider()\n",
        "\n",
        "# 8. Menampilkan kode Python beserta outputnya\n",
        "st.title(\"Demonstrasi st.echo()\")\n",
        "\n",
        "with st.echo():\n",
        "    st.write(\"Halo, ini teks yang ditampilkan di Streamlit!\")\n",
        "    angka = 10 + 5\n",
        "    st.write(f\"Hasil perhitungan: {angka}\")"
      ],
      "metadata": {
        "colab": {
          "base_uri": "https://localhost:8080/"
        },
        "id": "I_7sRtKotEyr",
        "outputId": "0b9e7319-fea1-479e-d36d-c1428c3315b3"
      },
      "execution_count": 50,
      "outputs": [
        {
          "output_type": "stream",
          "name": "stdout",
          "text": [
            "Overwriting pages/Pertemuan_2.py\n"
          ]
        }
      ]
    },
    {
      "cell_type": "markdown",
      "source": [
        "# **P3**"
      ],
      "metadata": {
        "id": "EEv2GtkrtN_s"
      }
    },
    {
      "cell_type": "code",
      "source": [
        "%%writefile pages/Pertemuan_3_a.py\n",
        "# INPUT WIDGET\n",
        "# 1. TEXT INPUT\n",
        "# a. TEXT INPUT\n",
        "import streamlit as st\n",
        "# Membuat input teks dengan batasan karakter dan password\n",
        "username = st.text_input('Masukkan nama Anda:', 'John Doe')\n",
        "password = st.text_input('Masukkan kata sandi Anda:', type='password', max_chars=12)\n",
        "# Menampilkan input yang dimasukkan (jika perlu)\n",
        "st.write(f' Selamat Datang {username}')\n",
        "if password:\n",
        " st.write('Kata sandi dimasukkan.')\n",
        "\n",
        "# b. TEXT AREA\n",
        "# Membuat input teks area untuk deskripsi\n",
        "description = st.text_area('Masukkan deskripsi Anda:', 'Tulis deskripsi Anda di sini...', height=150)\n",
        "# Menampilkan input yang dimasukkan\n",
        "st.write(f'Deskripsi yang dimasukkan: {description}')\n",
        "\n",
        "# c. CHAT INPUT\n",
        "# Membuat chat input untuk menerima pesan pengguna\n",
        "message = st.chat_input('Tulis pesan Anda:')\n",
        "# Menampilkan pesan yang dimasukkan\n",
        "if message:\n",
        " st.write(f'Pesan yang Anda masukkan: {message}')\n",
        "\n",
        "# 2. NUMERIC INPUT\n",
        "# Membuat number input untuk memasukkan umur\n",
        "age = st.number_input('Masukkan umur Anda:', min_value=0,\n",
        "max_value=100, value=18, step=1)\n",
        "# Menampilkan umur yang dimasukkan\n",
        "st.write(f'Umur Anda adalah: {age}')\n",
        "\n",
        "# 3. SLIDER\n",
        "# Slider untuk memilih umur\n",
        "umur = st.slider('Pilih umur Anda:', min_value=0,\n",
        "max_value=100, value=25, step=1)\n",
        "# Menampilkan hasil pilihan\n",
        "st.write(f\"Umur Anda adalah: {umur}\")\n",
        "\n",
        "# 4. SELECT BOX\n",
        "# Membuat select box untuk memilih warna favorit\n",
        "color = st.selectbox('Pilih warna favorit Anda:', ['Merah', 'Biru',\n",
        "'Hijau', 'Kuning'])\n",
        "# Menampilkan pilihan yang dipilih\n",
        "st.write(f'Warna favorit Anda adalah: {color}')\n",
        "\n",
        "# 5. MULTI SELECT\n",
        "\n",
        "# Membuat multiselect untuk memilih hobi favorit\n",
        "hobbies = st.multiselect('Pilih hobi favorit Anda:', ['Membaca',\n",
        "'Olahraga', 'Menonton Film', 'Musik'])\n",
        "# Menampilkan hobi yang dipilih\n",
        "st.write(f'Hobi favorit Anda adalah: {\", \".join(hobbies)}')\n",
        "\n",
        "# 6. CHECK BOX\n",
        "# Membuat checkbox untuk menyetujui syarat dan ketentuan\n",
        "agree = st.checkbox('Setuju dengan syarat dan ketentuan')\n",
        "# Menampilkan status centang\n",
        "if agree:\n",
        " st.write('Terima kasih, Anda setuju dengan syarat dan ketentuan.')\n",
        "else:\n",
        " st.write('Silakan centang untuk menyetujui syarat dan ketentuan.')\n",
        "\n",
        " # 7. RADIO BUTTON\n",
        "# Membuat radio button untuk memilih jenis kelamin\n",
        "gender = st.radio('Pilih jenis kelamin:', ['Laki-laki',\n",
        "'Perempuan'])\n",
        "# Menampilkan pilihan yang dipilih\n",
        "st.write(f'Jenis kelamin yang Anda pilih adalah: {gender}')\n",
        "\n",
        "# 8. SELECT SLIDER\n",
        "# Membuat select slider untuk memilih tingkat kesulitan\n",
        "difficulty = st.select_slider('Pilih tingkat kesulitan:',\n",
        "options=['Mudah', 'Sedang', 'Sulit'])\n",
        "# Menampilkan tingkat kesulitan yang dipilih\n",
        "st.write(f'Tingkat kesulitan yang Anda pilih adalah: {difficulty}')\n",
        "\n",
        "# 9. Button\n",
        "# Input angka dari pengguna\n",
        "angka_1 = st.number_input(\"Masukkan angka pertama:\", value=0)\n",
        "angka_2 = st.number_input(\"Masukkan angka kedua:\", value=0)\n",
        "# Fungsi untuk menghitung penjumlahan\n",
        "def hitung_penjumlahan(a, b):\n",
        " return a + b\n",
        "# Tombol untuk menghitung\n",
        "if st.button(\"Hitung Penjumlahan\"):\n",
        " hasil = hitung_penjumlahan(angka_1, angka_2)\n",
        " st.write(f\"Hasil penjumlahan: {hasil}\")\n",
        "\n",
        "# 10. DOWNLOAD BUTTON\n",
        "# Data untuk diunduh\n",
        "data = 'Ini adalah contoh teks untuk diunduh.'\n",
        "# Membuat tombol download\n",
        "st.download_button('Unduh Teks', data, file_name='contoh.txt', mime='text/plain')\n",
        "\n",
        "# 11. LINK BUTTON\n",
        "# Membuat link button dengan label dan URL\n",
        "st.link_button('Kunjungi Streamlit', url='https://streamlit.io')"
      ],
      "metadata": {
        "colab": {
          "base_uri": "https://localhost:8080/"
        },
        "id": "2MmsXRA6tO4P",
        "outputId": "4055d363-40e3-40cc-a7d3-2b3d245e9627"
      },
      "execution_count": 51,
      "outputs": [
        {
          "output_type": "stream",
          "name": "stdout",
          "text": [
            "Overwriting pages/Pertemuan_3_a.py\n"
          ]
        }
      ]
    },
    {
      "cell_type": "code",
      "source": [
        "!curl https://w7.pngwing.com/pngs/144/944/png-transparent-button-blue-button-miscellaneous-blue-sphere-thumbnail.png -o images/icon.jpg"
      ],
      "metadata": {
        "colab": {
          "base_uri": "https://localhost:8080/"
        },
        "id": "LiT78-3RtWIN",
        "outputId": "304fb932-447b-4a17-e34f-f56160a9fc6c"
      },
      "execution_count": 52,
      "outputs": [
        {
          "output_type": "stream",
          "name": "stdout",
          "text": [
            "  % Total    % Received % Xferd  Average Speed   Time    Time     Time  Current\n",
            "                                 Dload  Upload   Total   Spent    Left  Speed\n",
            "  0     0    0     0    0     0      0      0 --:--:-- --:--:-- --:--:--     0Warning: Failed to create the file images/icon.jpg: No such file or directory\n",
            " 11 11517   11  1360    0     0   6901      0  0:00:01 --:--:--  0:00:01  6938\n",
            "curl: (23) Failure writing output to destination\n"
          ]
        }
      ]
    },
    {
      "cell_type": "code",
      "source": [
        "%%writefile pages/Pertemuan_3_b.py\n",
        "# 13. FORM SUBMIT BUTTON\n",
        "import streamlit as st\n",
        "# Membuat formulir\n",
        "with st.form(key='my_form'):\n",
        " # Menambahkan input teks\n",
        " name = st.text_input('Nama Anda')\n",
        " # Menambahkan input angka\n",
        " age = st.number_input('Usia Anda', min_value=0)\n",
        " # Menambahkan tombol kirim\n",
        " submit_button = st.form_submit_button(label='Kirim')\n",
        " if submit_button:\n",
        "  st.write(f'Nama: {name}')\n",
        "  st.write(f'Usia: {age}')"
      ],
      "metadata": {
        "colab": {
          "base_uri": "https://localhost:8080/"
        },
        "id": "DZ2l8372uyOw",
        "outputId": "ecb5e02b-2dc4-4129-c0f3-7a2c43dd9e6f"
      },
      "execution_count": 53,
      "outputs": [
        {
          "output_type": "stream",
          "name": "stdout",
          "text": [
            "Overwriting pages/Pertemuan_3_b.py\n"
          ]
        }
      ]
    },
    {
      "cell_type": "code",
      "source": [
        "%%writefile pages/Pertemuan_3_c.py\n",
        "import streamlit as st\n",
        "import datetime\n",
        "\n",
        "# 14. DATE INPUT\n",
        "# Menampilkan date_input dengan nilai default tanggal hari ini\n",
        "date = st.date_input('Pilih Tanggal', value=datetime.date.today())\n",
        "# Menampilkan tanggal yang dipilih\n",
        "st.write('Tanggal yang dipilih:', date)\n",
        "\n",
        "# 15. TIME INPUT\n",
        "# Menampilkan time_input dengan nilai default waktu saat ini\n",
        "time = st.time_input('Pilih Waktu', value=datetime.time(14, 30))\n",
        "# Menampilkan waktu yang dipilih\n",
        "st.write('Waktu yang dipilih:', time)"
      ],
      "metadata": {
        "colab": {
          "base_uri": "https://localhost:8080/"
        },
        "id": "KNfQR5mTu2O9",
        "outputId": "78249341-e70d-4cdf-9e9c-e9d4d2161e3d"
      },
      "execution_count": 54,
      "outputs": [
        {
          "output_type": "stream",
          "name": "stdout",
          "text": [
            "Overwriting pages/Pertemuan_3_c.py\n"
          ]
        }
      ]
    },
    {
      "cell_type": "markdown",
      "source": [
        "**P4**"
      ],
      "metadata": {
        "id": "96MY5FbEu-Zn"
      }
    },
    {
      "cell_type": "code",
      "source": [
        "%%writefile pages/Pertemuan_4.py\n",
        "import streamlit as st\n",
        "# Sidebar menu\n",
        "st.sidebar.title(\"Menu\")\n",
        "page = st.sidebar.radio(\"Pilih Halaman\", [\"Beranda\", \"Tentang Kami\", \"Kontak\"])\n",
        "\n",
        "# Halaman Beranda\n",
        "if page == \"Beranda\":\n",
        "    st.title(\"Selamat Datang di Web Organisasi Kami\")\n",
        "    st.write(\"Ini adalah halaman beranda dari aplikasi web organisasi.\")\n",
        "    with st.container():\n",
        "        st.subheader(\"Visi\")\n",
        "        st.write(\"Menjadi organisasi terbaik di bidangnya.\")\n",
        "        st.subheader(\"Misi\")\n",
        "        st.write(\"Memberikan layanan terbaik kepada anggota dan masyarakat.\")\n",
        "\n",
        "# Halaman Tentang Kami\n",
        "elif page == \"Tentang Kami\":\n",
        "    st.title(\"Tentang Kami\")\n",
        "    with st.container():\n",
        "        st.write(\"Organisasi kami berdiri sejak tahun 2020 dengan tujuan meningkatkan kesejahteraan anggota.\")\n",
        "        st.image(\"https://media.istockphoto.com/id/1188452509/id/foto/tim-bisnis-yang-sukses-tersenyum-kerja-tim-kolega-kantor-perusahaan.jpg?s=2048x2048&w=is&k=20&c=IulOXLbBIKnHIfYdwTVGVHDkP1FK9tXkBXhNCOJOulg=\", caption=\"Foto Organisasi\")\n",
        "\n",
        "# Halaman Kontak\n",
        "elif page == \"Kontak\":\n",
        "    st.title(\"Hubungi Kami\")\n",
        "    with st.container():\n",
        "        nama = st.text_input(\"Nama\")\n",
        "        email = st.text_input(\"Email\")\n",
        "        pesan = st.text_area(\"Pesan\")\n",
        "        if st.button(\"Kirim\"):\n",
        "            st.success(f\"Terima kasih, {nama}! Pesan kamu sudah terkirim.\")\n",
        "\n",
        "# Tombol Tutup (ekstra sesuai gambar kamu)\n",
        "if st.button(\"Tutup\"):\n",
        "    st.write(\"Aplikasi ditutup. Terima kasih sudah mengunjungi!\")\n"
      ],
      "metadata": {
        "colab": {
          "base_uri": "https://localhost:8080/"
        },
        "id": "ViRiCLKwvAVC",
        "outputId": "a18e7704-5406-47c2-ab4b-1d85394f27d8"
      },
      "execution_count": 55,
      "outputs": [
        {
          "output_type": "stream",
          "name": "stdout",
          "text": [
            "Overwriting pages/Pertemuan_4.py\n"
          ]
        }
      ]
    },
    {
      "cell_type": "markdown",
      "source": [
        "**P5**"
      ],
      "metadata": {
        "id": "7f0mofIPvNPV"
      }
    },
    {
      "cell_type": "code",
      "source": [
        "%%writefile pages/Pertemuan_5.py\n",
        "import streamlit as st\n",
        "import pandas as pd\n",
        "import json\n",
        "# Membaca file CSV\n",
        "df = pd.read_csv(\"/content/drive/MyDrive/kagle/nutrition.csv\")\n",
        "\n",
        "# Buat tab\n",
        "tab1, tab2, tab3 = st.tabs([\"Tabel\", \"Metrics\", \"JSON\"])\n",
        "\n",
        "# Tab 1: Tabel\n",
        "with tab1:\n",
        "    st.header(\"Data Nutrisi - Tabel\")\n",
        "    st.dataframe(df)  # menampilkan tabel interaktif\n",
        "\n",
        "# Tab 2: Metrics\n",
        "with tab2:\n",
        "    st.header(\"Data Nutrisi - Metrics\")\n",
        "    for index, row in df.iterrows():\n",
        "        st.subheader(row['name'])\n",
        "        col1, col2, col3, col4 = st.columns(4)\n",
        "        col1.metric(\"Calories\", row['calories'])\n",
        "        col2.metric(\"Proteins\", row['proteins'])\n",
        "        col3.metric(\"Fat\", row['fat'])\n",
        "        col4.metric(\"Carbs\", row['carbohydrate'])\n",
        "        st.image(row['image'], width=200)\n",
        "        st.markdown(\"---\")  # garis pemisah\n",
        "\n",
        "# Tab 3: JSON\n",
        "with tab3:\n",
        "    st.header(\"Data Nutrisi - JSON\")\n",
        "    st.json(df.to_dict(orient=\"records\"))"
      ],
      "metadata": {
        "colab": {
          "base_uri": "https://localhost:8080/"
        },
        "id": "8u0wq9tFvOsP",
        "outputId": "80f9d617-7c07-4490-b3a4-f252222ea405"
      },
      "execution_count": 56,
      "outputs": [
        {
          "output_type": "stream",
          "name": "stdout",
          "text": [
            "Overwriting pages/Pertemuan_5.py\n"
          ]
        }
      ]
    },
    {
      "cell_type": "markdown",
      "source": [
        "**P6**"
      ],
      "metadata": {
        "id": "3ajnJJ0av03r"
      }
    },
    {
      "cell_type": "code",
      "source": [
        "%%writefile pages/Pertemuan_6.py\n",
        "import streamlit as st\n",
        "import pandas as pd\n",
        "import numpy as np\n",
        "\n",
        "# Load data\n",
        "data = pd.read_csv('/content/drive/MyDrive/kagle/nutrition.csv')\n",
        "\n",
        "# Contoh tambahan: buat kolom latitude & longitude kalau belum ada di data\n",
        "# (kamu bisa ganti dengan data aslimu nanti)\n",
        "if 'latitude' not in data.columns or 'longitude' not in data.columns:\n",
        "    np.random.seed(42)\n",
        "    data['latitude'] = np.random.uniform(-6.2, -6.3, size=len(data))\n",
        "    data['longitude'] = np.random.uniform(106.8, 106.9, size=len(data))\n",
        "\n",
        "# Buat tabs\n",
        "tab1, tab2, tab3, tab4, tab5 = st.tabs(\n",
        "    [\"Grafik Area\", \"Grafik Garis\", \"Grafik Batang\", \"Grafik Scatter\", \"Peta\"]\n",
        ")\n",
        "\n",
        "# Tab 1: Grafik Area\n",
        "with tab1:\n",
        "    st.header(\"Grafik Area\")\n",
        "    st.area_chart(data[['calories', 'proteins', 'fat', 'carbohydrate']])\n",
        "\n",
        "# Tab 2: Grafik Garis\n",
        "with tab2:\n",
        "    st.header(\"Grafik Garis\")\n",
        "    st.line_chart(data[['calories', 'proteins', 'fat', 'carbohydrate']])\n",
        "\n",
        "# Tab 3: Grafik Batang\n",
        "with tab3:\n",
        "    st.header(\"Grafik Batang\")\n",
        "    st.bar_chart(data[['calories', 'proteins', 'fat', 'carbohydrate']])\n",
        "\n",
        "# Tab 4: Grafik Scatter\n",
        "with tab4:\n",
        "    st.header(\"Grafik Scatter\")\n",
        "    st.scatter_chart(data[['calories', 'proteins', 'fat', 'carbohydrate']])\n",
        "\n",
        "# Tab 5: Peta\n",
        "with tab5:\n",
        "    st.header(\"Peta\")\n",
        "    st.map(data[['latitude', 'longitude']])"
      ],
      "metadata": {
        "colab": {
          "base_uri": "https://localhost:8080/"
        },
        "id": "bpBSd3hBv2P7",
        "outputId": "2db8bbe1-ae0b-4f1c-fc19-f5a44cea26bd"
      },
      "execution_count": 74,
      "outputs": [
        {
          "output_type": "stream",
          "name": "stdout",
          "text": [
            "Overwriting pages/Pertemuan_6.py\n"
          ]
        }
      ]
    },
    {
      "cell_type": "markdown",
      "source": [
        "**P7**"
      ],
      "metadata": {
        "id": "5GUNy7IpwHtE"
      }
    },
    {
      "cell_type": "code",
      "source": [
        "# Load data\n",
        "import pandas as pd\n",
        "data = pd.read_csv(\"/content/drive/MyDrive/kagle/nutrition.csv\")\n",
        "data"
      ],
      "metadata": {
        "colab": {
          "base_uri": "https://localhost:8080/",
          "height": 424
        },
        "id": "dQdj19YRwIr0",
        "outputId": "1d95626a-ed55-4a5b-d3db-dd62b4014b93"
      },
      "execution_count": 58,
      "outputs": [
        {
          "output_type": "execute_result",
          "data": {
            "text/plain": [
              "        id  calories  proteins   fat  carbohydrate                name  \\\n",
              "0        1     280.0       9.2  28.4           0.0                Abon   \n",
              "1        2     513.0      23.7  37.0          21.3        Abon haruwan   \n",
              "2        3       0.0       0.0   0.2           0.0           Agar-agar   \n",
              "3        4      45.0       1.1   0.4          10.8  Akar tonjong segar   \n",
              "4        5      37.0       4.4   0.5           3.8       Aletoge segar   \n",
              "...    ...       ...       ...   ...           ...                 ...   \n",
              "1341  1342      42.0       1.2   0.6           9.3        Wortel Segar   \n",
              "1342  1343      37.0       1.0   0.6           8.3        Wortel kukus   \n",
              "1343  1344      28.0       0.7   0.5           6.3        Wortel rebus   \n",
              "1344  1345     254.0       3.0   1.1          58.1              Yangko   \n",
              "1345  1346      52.0       3.3   2.5           4.0             Yoghurt   \n",
              "\n",
              "                                                  image  \n",
              "0     https://img-cdn.medkomtek.com/PbrY9X3ignQ8sVuj...  \n",
              "1     https://img-global.cpcdn.com/recipes/cbf330fbd...  \n",
              "2     https://res.cloudinary.com/dk0z4ums3/image/upl...  \n",
              "3     https://images.tokopedia.net/img/cache/200-squ...  \n",
              "4     https://nilaigizi.com/assets/images/produk/pro...  \n",
              "...                                                 ...  \n",
              "1341  https://www.astronauts.id/blog/wp-content/uplo...  \n",
              "1342  https://www.wikihow.com/images_en/thumb/b/bf/S...  \n",
              "1343  https://asset-a.grid.id/crop/0x222:594x690/700...  \n",
              "1344  https://serikatnews.com/wp-content/uploads/202...  \n",
              "1345  https://d1vbn70lmn1nqe.cloudfront.net/prod/wp-...  \n",
              "\n",
              "[1346 rows x 7 columns]"
            ],
            "text/html": [
              "\n",
              "  <div id=\"df-12307814-294c-4b51-8fb8-47bcd8ed29e3\" class=\"colab-df-container\">\n",
              "    <div>\n",
              "<style scoped>\n",
              "    .dataframe tbody tr th:only-of-type {\n",
              "        vertical-align: middle;\n",
              "    }\n",
              "\n",
              "    .dataframe tbody tr th {\n",
              "        vertical-align: top;\n",
              "    }\n",
              "\n",
              "    .dataframe thead th {\n",
              "        text-align: right;\n",
              "    }\n",
              "</style>\n",
              "<table border=\"1\" class=\"dataframe\">\n",
              "  <thead>\n",
              "    <tr style=\"text-align: right;\">\n",
              "      <th></th>\n",
              "      <th>id</th>\n",
              "      <th>calories</th>\n",
              "      <th>proteins</th>\n",
              "      <th>fat</th>\n",
              "      <th>carbohydrate</th>\n",
              "      <th>name</th>\n",
              "      <th>image</th>\n",
              "    </tr>\n",
              "  </thead>\n",
              "  <tbody>\n",
              "    <tr>\n",
              "      <th>0</th>\n",
              "      <td>1</td>\n",
              "      <td>280.0</td>\n",
              "      <td>9.2</td>\n",
              "      <td>28.4</td>\n",
              "      <td>0.0</td>\n",
              "      <td>Abon</td>\n",
              "      <td>https://img-cdn.medkomtek.com/PbrY9X3ignQ8sVuj...</td>\n",
              "    </tr>\n",
              "    <tr>\n",
              "      <th>1</th>\n",
              "      <td>2</td>\n",
              "      <td>513.0</td>\n",
              "      <td>23.7</td>\n",
              "      <td>37.0</td>\n",
              "      <td>21.3</td>\n",
              "      <td>Abon haruwan</td>\n",
              "      <td>https://img-global.cpcdn.com/recipes/cbf330fbd...</td>\n",
              "    </tr>\n",
              "    <tr>\n",
              "      <th>2</th>\n",
              "      <td>3</td>\n",
              "      <td>0.0</td>\n",
              "      <td>0.0</td>\n",
              "      <td>0.2</td>\n",
              "      <td>0.0</td>\n",
              "      <td>Agar-agar</td>\n",
              "      <td>https://res.cloudinary.com/dk0z4ums3/image/upl...</td>\n",
              "    </tr>\n",
              "    <tr>\n",
              "      <th>3</th>\n",
              "      <td>4</td>\n",
              "      <td>45.0</td>\n",
              "      <td>1.1</td>\n",
              "      <td>0.4</td>\n",
              "      <td>10.8</td>\n",
              "      <td>Akar tonjong segar</td>\n",
              "      <td>https://images.tokopedia.net/img/cache/200-squ...</td>\n",
              "    </tr>\n",
              "    <tr>\n",
              "      <th>4</th>\n",
              "      <td>5</td>\n",
              "      <td>37.0</td>\n",
              "      <td>4.4</td>\n",
              "      <td>0.5</td>\n",
              "      <td>3.8</td>\n",
              "      <td>Aletoge segar</td>\n",
              "      <td>https://nilaigizi.com/assets/images/produk/pro...</td>\n",
              "    </tr>\n",
              "    <tr>\n",
              "      <th>...</th>\n",
              "      <td>...</td>\n",
              "      <td>...</td>\n",
              "      <td>...</td>\n",
              "      <td>...</td>\n",
              "      <td>...</td>\n",
              "      <td>...</td>\n",
              "      <td>...</td>\n",
              "    </tr>\n",
              "    <tr>\n",
              "      <th>1341</th>\n",
              "      <td>1342</td>\n",
              "      <td>42.0</td>\n",
              "      <td>1.2</td>\n",
              "      <td>0.6</td>\n",
              "      <td>9.3</td>\n",
              "      <td>Wortel Segar</td>\n",
              "      <td>https://www.astronauts.id/blog/wp-content/uplo...</td>\n",
              "    </tr>\n",
              "    <tr>\n",
              "      <th>1342</th>\n",
              "      <td>1343</td>\n",
              "      <td>37.0</td>\n",
              "      <td>1.0</td>\n",
              "      <td>0.6</td>\n",
              "      <td>8.3</td>\n",
              "      <td>Wortel kukus</td>\n",
              "      <td>https://www.wikihow.com/images_en/thumb/b/bf/S...</td>\n",
              "    </tr>\n",
              "    <tr>\n",
              "      <th>1343</th>\n",
              "      <td>1344</td>\n",
              "      <td>28.0</td>\n",
              "      <td>0.7</td>\n",
              "      <td>0.5</td>\n",
              "      <td>6.3</td>\n",
              "      <td>Wortel rebus</td>\n",
              "      <td>https://asset-a.grid.id/crop/0x222:594x690/700...</td>\n",
              "    </tr>\n",
              "    <tr>\n",
              "      <th>1344</th>\n",
              "      <td>1345</td>\n",
              "      <td>254.0</td>\n",
              "      <td>3.0</td>\n",
              "      <td>1.1</td>\n",
              "      <td>58.1</td>\n",
              "      <td>Yangko</td>\n",
              "      <td>https://serikatnews.com/wp-content/uploads/202...</td>\n",
              "    </tr>\n",
              "    <tr>\n",
              "      <th>1345</th>\n",
              "      <td>1346</td>\n",
              "      <td>52.0</td>\n",
              "      <td>3.3</td>\n",
              "      <td>2.5</td>\n",
              "      <td>4.0</td>\n",
              "      <td>Yoghurt</td>\n",
              "      <td>https://d1vbn70lmn1nqe.cloudfront.net/prod/wp-...</td>\n",
              "    </tr>\n",
              "  </tbody>\n",
              "</table>\n",
              "<p>1346 rows × 7 columns</p>\n",
              "</div>\n",
              "    <div class=\"colab-df-buttons\">\n",
              "\n",
              "  <div class=\"colab-df-container\">\n",
              "    <button class=\"colab-df-convert\" onclick=\"convertToInteractive('df-12307814-294c-4b51-8fb8-47bcd8ed29e3')\"\n",
              "            title=\"Convert this dataframe to an interactive table.\"\n",
              "            style=\"display:none;\">\n",
              "\n",
              "  <svg xmlns=\"http://www.w3.org/2000/svg\" height=\"24px\" viewBox=\"0 -960 960 960\">\n",
              "    <path d=\"M120-120v-720h720v720H120Zm60-500h600v-160H180v160Zm220 220h160v-160H400v160Zm0 220h160v-160H400v160ZM180-400h160v-160H180v160Zm440 0h160v-160H620v160ZM180-180h160v-160H180v160Zm440 0h160v-160H620v160Z\"/>\n",
              "  </svg>\n",
              "    </button>\n",
              "\n",
              "  <style>\n",
              "    .colab-df-container {\n",
              "      display:flex;\n",
              "      gap: 12px;\n",
              "    }\n",
              "\n",
              "    .colab-df-convert {\n",
              "      background-color: #E8F0FE;\n",
              "      border: none;\n",
              "      border-radius: 50%;\n",
              "      cursor: pointer;\n",
              "      display: none;\n",
              "      fill: #1967D2;\n",
              "      height: 32px;\n",
              "      padding: 0 0 0 0;\n",
              "      width: 32px;\n",
              "    }\n",
              "\n",
              "    .colab-df-convert:hover {\n",
              "      background-color: #E2EBFA;\n",
              "      box-shadow: 0px 1px 2px rgba(60, 64, 67, 0.3), 0px 1px 3px 1px rgba(60, 64, 67, 0.15);\n",
              "      fill: #174EA6;\n",
              "    }\n",
              "\n",
              "    .colab-df-buttons div {\n",
              "      margin-bottom: 4px;\n",
              "    }\n",
              "\n",
              "    [theme=dark] .colab-df-convert {\n",
              "      background-color: #3B4455;\n",
              "      fill: #D2E3FC;\n",
              "    }\n",
              "\n",
              "    [theme=dark] .colab-df-convert:hover {\n",
              "      background-color: #434B5C;\n",
              "      box-shadow: 0px 1px 3px 1px rgba(0, 0, 0, 0.15);\n",
              "      filter: drop-shadow(0px 1px 2px rgba(0, 0, 0, 0.3));\n",
              "      fill: #FFFFFF;\n",
              "    }\n",
              "  </style>\n",
              "\n",
              "    <script>\n",
              "      const buttonEl =\n",
              "        document.querySelector('#df-12307814-294c-4b51-8fb8-47bcd8ed29e3 button.colab-df-convert');\n",
              "      buttonEl.style.display =\n",
              "        google.colab.kernel.accessAllowed ? 'block' : 'none';\n",
              "\n",
              "      async function convertToInteractive(key) {\n",
              "        const element = document.querySelector('#df-12307814-294c-4b51-8fb8-47bcd8ed29e3');\n",
              "        const dataTable =\n",
              "          await google.colab.kernel.invokeFunction('convertToInteractive',\n",
              "                                                    [key], {});\n",
              "        if (!dataTable) return;\n",
              "\n",
              "        const docLinkHtml = 'Like what you see? Visit the ' +\n",
              "          '<a target=\"_blank\" href=https://colab.research.google.com/notebooks/data_table.ipynb>data table notebook</a>'\n",
              "          + ' to learn more about interactive tables.';\n",
              "        element.innerHTML = '';\n",
              "        dataTable['output_type'] = 'display_data';\n",
              "        await google.colab.output.renderOutput(dataTable, element);\n",
              "        const docLink = document.createElement('div');\n",
              "        docLink.innerHTML = docLinkHtml;\n",
              "        element.appendChild(docLink);\n",
              "      }\n",
              "    </script>\n",
              "  </div>\n",
              "\n",
              "\n",
              "    <div id=\"df-cace0063-a616-40ab-a540-6890e39f5903\">\n",
              "      <button class=\"colab-df-quickchart\" onclick=\"quickchart('df-cace0063-a616-40ab-a540-6890e39f5903')\"\n",
              "                title=\"Suggest charts\"\n",
              "                style=\"display:none;\">\n",
              "\n",
              "<svg xmlns=\"http://www.w3.org/2000/svg\" height=\"24px\"viewBox=\"0 0 24 24\"\n",
              "     width=\"24px\">\n",
              "    <g>\n",
              "        <path d=\"M19 3H5c-1.1 0-2 .9-2 2v14c0 1.1.9 2 2 2h14c1.1 0 2-.9 2-2V5c0-1.1-.9-2-2-2zM9 17H7v-7h2v7zm4 0h-2V7h2v10zm4 0h-2v-4h2v4z\"/>\n",
              "    </g>\n",
              "</svg>\n",
              "      </button>\n",
              "\n",
              "<style>\n",
              "  .colab-df-quickchart {\n",
              "      --bg-color: #E8F0FE;\n",
              "      --fill-color: #1967D2;\n",
              "      --hover-bg-color: #E2EBFA;\n",
              "      --hover-fill-color: #174EA6;\n",
              "      --disabled-fill-color: #AAA;\n",
              "      --disabled-bg-color: #DDD;\n",
              "  }\n",
              "\n",
              "  [theme=dark] .colab-df-quickchart {\n",
              "      --bg-color: #3B4455;\n",
              "      --fill-color: #D2E3FC;\n",
              "      --hover-bg-color: #434B5C;\n",
              "      --hover-fill-color: #FFFFFF;\n",
              "      --disabled-bg-color: #3B4455;\n",
              "      --disabled-fill-color: #666;\n",
              "  }\n",
              "\n",
              "  .colab-df-quickchart {\n",
              "    background-color: var(--bg-color);\n",
              "    border: none;\n",
              "    border-radius: 50%;\n",
              "    cursor: pointer;\n",
              "    display: none;\n",
              "    fill: var(--fill-color);\n",
              "    height: 32px;\n",
              "    padding: 0;\n",
              "    width: 32px;\n",
              "  }\n",
              "\n",
              "  .colab-df-quickchart:hover {\n",
              "    background-color: var(--hover-bg-color);\n",
              "    box-shadow: 0 1px 2px rgba(60, 64, 67, 0.3), 0 1px 3px 1px rgba(60, 64, 67, 0.15);\n",
              "    fill: var(--button-hover-fill-color);\n",
              "  }\n",
              "\n",
              "  .colab-df-quickchart-complete:disabled,\n",
              "  .colab-df-quickchart-complete:disabled:hover {\n",
              "    background-color: var(--disabled-bg-color);\n",
              "    fill: var(--disabled-fill-color);\n",
              "    box-shadow: none;\n",
              "  }\n",
              "\n",
              "  .colab-df-spinner {\n",
              "    border: 2px solid var(--fill-color);\n",
              "    border-color: transparent;\n",
              "    border-bottom-color: var(--fill-color);\n",
              "    animation:\n",
              "      spin 1s steps(1) infinite;\n",
              "  }\n",
              "\n",
              "  @keyframes spin {\n",
              "    0% {\n",
              "      border-color: transparent;\n",
              "      border-bottom-color: var(--fill-color);\n",
              "      border-left-color: var(--fill-color);\n",
              "    }\n",
              "    20% {\n",
              "      border-color: transparent;\n",
              "      border-left-color: var(--fill-color);\n",
              "      border-top-color: var(--fill-color);\n",
              "    }\n",
              "    30% {\n",
              "      border-color: transparent;\n",
              "      border-left-color: var(--fill-color);\n",
              "      border-top-color: var(--fill-color);\n",
              "      border-right-color: var(--fill-color);\n",
              "    }\n",
              "    40% {\n",
              "      border-color: transparent;\n",
              "      border-right-color: var(--fill-color);\n",
              "      border-top-color: var(--fill-color);\n",
              "    }\n",
              "    60% {\n",
              "      border-color: transparent;\n",
              "      border-right-color: var(--fill-color);\n",
              "    }\n",
              "    80% {\n",
              "      border-color: transparent;\n",
              "      border-right-color: var(--fill-color);\n",
              "      border-bottom-color: var(--fill-color);\n",
              "    }\n",
              "    90% {\n",
              "      border-color: transparent;\n",
              "      border-bottom-color: var(--fill-color);\n",
              "    }\n",
              "  }\n",
              "</style>\n",
              "\n",
              "      <script>\n",
              "        async function quickchart(key) {\n",
              "          const quickchartButtonEl =\n",
              "            document.querySelector('#' + key + ' button');\n",
              "          quickchartButtonEl.disabled = true;  // To prevent multiple clicks.\n",
              "          quickchartButtonEl.classList.add('colab-df-spinner');\n",
              "          try {\n",
              "            const charts = await google.colab.kernel.invokeFunction(\n",
              "                'suggestCharts', [key], {});\n",
              "          } catch (error) {\n",
              "            console.error('Error during call to suggestCharts:', error);\n",
              "          }\n",
              "          quickchartButtonEl.classList.remove('colab-df-spinner');\n",
              "          quickchartButtonEl.classList.add('colab-df-quickchart-complete');\n",
              "        }\n",
              "        (() => {\n",
              "          let quickchartButtonEl =\n",
              "            document.querySelector('#df-cace0063-a616-40ab-a540-6890e39f5903 button');\n",
              "          quickchartButtonEl.style.display =\n",
              "            google.colab.kernel.accessAllowed ? 'block' : 'none';\n",
              "        })();\n",
              "      </script>\n",
              "    </div>\n",
              "\n",
              "  <div id=\"id_63819800-42a0-414d-b6b1-9331f86070e7\">\n",
              "    <style>\n",
              "      .colab-df-generate {\n",
              "        background-color: #E8F0FE;\n",
              "        border: none;\n",
              "        border-radius: 50%;\n",
              "        cursor: pointer;\n",
              "        display: none;\n",
              "        fill: #1967D2;\n",
              "        height: 32px;\n",
              "        padding: 0 0 0 0;\n",
              "        width: 32px;\n",
              "      }\n",
              "\n",
              "      .colab-df-generate:hover {\n",
              "        background-color: #E2EBFA;\n",
              "        box-shadow: 0px 1px 2px rgba(60, 64, 67, 0.3), 0px 1px 3px 1px rgba(60, 64, 67, 0.15);\n",
              "        fill: #174EA6;\n",
              "      }\n",
              "\n",
              "      [theme=dark] .colab-df-generate {\n",
              "        background-color: #3B4455;\n",
              "        fill: #D2E3FC;\n",
              "      }\n",
              "\n",
              "      [theme=dark] .colab-df-generate:hover {\n",
              "        background-color: #434B5C;\n",
              "        box-shadow: 0px 1px 3px 1px rgba(0, 0, 0, 0.15);\n",
              "        filter: drop-shadow(0px 1px 2px rgba(0, 0, 0, 0.3));\n",
              "        fill: #FFFFFF;\n",
              "      }\n",
              "    </style>\n",
              "    <button class=\"colab-df-generate\" onclick=\"generateWithVariable('data')\"\n",
              "            title=\"Generate code using this dataframe.\"\n",
              "            style=\"display:none;\">\n",
              "\n",
              "  <svg xmlns=\"http://www.w3.org/2000/svg\" height=\"24px\"viewBox=\"0 0 24 24\"\n",
              "       width=\"24px\">\n",
              "    <path d=\"M7,19H8.4L18.45,9,17,7.55,7,17.6ZM5,21V16.75L18.45,3.32a2,2,0,0,1,2.83,0l1.4,1.43a1.91,1.91,0,0,1,.58,1.4,1.91,1.91,0,0,1-.58,1.4L9.25,21ZM18.45,9,17,7.55Zm-12,3A5.31,5.31,0,0,0,4.9,8.1,5.31,5.31,0,0,0,1,6.5,5.31,5.31,0,0,0,4.9,4.9,5.31,5.31,0,0,0,6.5,1,5.31,5.31,0,0,0,8.1,4.9,5.31,5.31,0,0,0,12,6.5,5.46,5.46,0,0,0,6.5,12Z\"/>\n",
              "  </svg>\n",
              "    </button>\n",
              "    <script>\n",
              "      (() => {\n",
              "      const buttonEl =\n",
              "        document.querySelector('#id_63819800-42a0-414d-b6b1-9331f86070e7 button.colab-df-generate');\n",
              "      buttonEl.style.display =\n",
              "        google.colab.kernel.accessAllowed ? 'block' : 'none';\n",
              "\n",
              "      buttonEl.onclick = () => {\n",
              "        google.colab.notebook.generateWithVariable('data');\n",
              "      }\n",
              "      })();\n",
              "    </script>\n",
              "  </div>\n",
              "\n",
              "    </div>\n",
              "  </div>\n"
            ],
            "application/vnd.google.colaboratory.intrinsic+json": {
              "type": "dataframe",
              "variable_name": "data",
              "summary": "{\n  \"name\": \"data\",\n  \"rows\": 1346,\n  \"fields\": [\n    {\n      \"column\": \"id\",\n      \"properties\": {\n        \"dtype\": \"number\",\n        \"std\": 388,\n        \"min\": 1,\n        \"max\": 1346,\n        \"num_unique_values\": 1346,\n        \"samples\": [\n          895,\n          1141,\n          340\n        ],\n        \"semantic_type\": \"\",\n        \"description\": \"\"\n      }\n    },\n    {\n      \"column\": \"calories\",\n      \"properties\": {\n        \"dtype\": \"number\",\n        \"std\": 163.0754297001605,\n        \"min\": 0.0,\n        \"max\": 940.0,\n        \"num_unique_values\": 472,\n        \"samples\": [\n          76.0,\n          300.0,\n          298.0\n        ],\n        \"semantic_type\": \"\",\n        \"description\": \"\"\n      }\n    },\n    {\n      \"column\": \"proteins\",\n      \"properties\": {\n        \"dtype\": \"number\",\n        \"std\": 11.847980020078714,\n        \"min\": 0.0,\n        \"max\": 83.0,\n        \"num_unique_values\": 312,\n        \"samples\": [\n          7.9,\n          5.0,\n          3.1\n        ],\n        \"semantic_type\": \"\",\n        \"description\": \"\"\n      }\n    },\n    {\n      \"column\": \"fat\",\n      \"properties\": {\n        \"dtype\": \"number\",\n        \"std\": 13.733062879085647,\n        \"min\": 0.0,\n        \"max\": 100.0,\n        \"num_unique_values\": 279,\n        \"samples\": [\n          9.0,\n          3.2,\n          25.5\n        ],\n        \"semantic_type\": \"\",\n        \"description\": \"\"\n      }\n    },\n    {\n      \"column\": \"carbohydrate\",\n      \"properties\": {\n        \"dtype\": \"number\",\n        \"std\": 32.193054395911595,\n        \"min\": 0.0,\n        \"max\": 647.0,\n        \"num_unique_values\": 544,\n        \"samples\": [\n          104.0,\n          2.5,\n          27.2\n        ],\n        \"semantic_type\": \"\",\n        \"description\": \"\"\n      }\n    },\n    {\n      \"column\": \"name\",\n      \"properties\": {\n        \"dtype\": \"string\",\n        \"num_unique_values\": 1346,\n        \"samples\": [\n          \"Mie basah\",\n          \"Siomay \",\n          \"Empal (daging) Goreng masakan\"\n        ],\n        \"semantic_type\": \"\",\n        \"description\": \"\"\n      }\n    },\n    {\n      \"column\": \"image\",\n      \"properties\": {\n        \"dtype\": \"string\",\n        \"num_unique_values\": 1307,\n        \"samples\": [\n          \"https://res.cloudinary.com/dk0z4ums3/image/upload/v1630045137/attached_image/di-balik-manfaat-toge-kenali-bahaya-dan-cara-mengonsumsinya.jpg\",\n          \"https://static.sehatq.com/content/review/image/1644897313.png\",\n          \"https://www.tagar.id/Asset/uploads2019/1650333684879-kulit-melinjo.jpg\"\n        ],\n        \"semantic_type\": \"\",\n        \"description\": \"\"\n      }\n    }\n  ]\n}"
            }
          },
          "metadata": {},
          "execution_count": 58
        }
      ]
    },
    {
      "cell_type": "code",
      "source": [
        "data.info()"
      ],
      "metadata": {
        "colab": {
          "base_uri": "https://localhost:8080/"
        },
        "id": "qrrgl2h_wh-O",
        "outputId": "989294cd-320c-4349-ab23-051a4622f854"
      },
      "execution_count": 59,
      "outputs": [
        {
          "output_type": "stream",
          "name": "stdout",
          "text": [
            "<class 'pandas.core.frame.DataFrame'>\n",
            "RangeIndex: 1346 entries, 0 to 1345\n",
            "Data columns (total 7 columns):\n",
            " #   Column        Non-Null Count  Dtype  \n",
            "---  ------        --------------  -----  \n",
            " 0   id            1346 non-null   int64  \n",
            " 1   calories      1346 non-null   float64\n",
            " 2   proteins      1346 non-null   float64\n",
            " 3   fat           1346 non-null   float64\n",
            " 4   carbohydrate  1346 non-null   float64\n",
            " 5   name          1346 non-null   object \n",
            " 6   image         1346 non-null   object \n",
            "dtypes: float64(4), int64(1), object(2)\n",
            "memory usage: 73.7+ KB\n"
          ]
        }
      ]
    },
    {
      "cell_type": "code",
      "source": [
        "%%writefile pages/Pertemuan_7.py\n",
        "import streamlit as st\n",
        "import pandas as pd\n",
        "\n",
        "# Load data\n",
        "data = pd.read_csv(\"/content/drive/MyDrive/kagle/nutrition.csv\")  # Sesuaikan path jika diperlukan\n",
        "\n",
        "# Judul dashboard\n",
        "st.title(\"🥦 Dashboard Nutrisi Makanan Indonesia\")\n",
        "\n",
        "# Sidebar filter\n",
        "selected_food = st.sidebar.selectbox(\"Pilih Makanan\", data['name'].sort_values().unique())\n",
        "\n",
        "# Filter data\n",
        "food_data = data[data['name'] == selected_food].iloc[0]\n",
        "\n",
        "# Menampilkan informasi nutrisi\n",
        "st.subheader(f\"Informasi Nutrisi untuk: {selected_food}\")\n",
        "\n",
        "col1, col2 = st.columns([1, 2])\n",
        "with col1:\n",
        "    st.image(food_data['image'], width=150, caption=selected_food)\n",
        "\n",
        "with col2:\n",
        "    st.metric(\"Kalori\", f\"{food_data['calories']} kkal\")\n",
        "    st.metric(\"Protein\", f\"{food_data['proteins']} g\")\n",
        "    st.metric(\"Lemak\", f\"{food_data['fat']} g\")\n",
        "    st.metric(\"Karbohidrat\", f\"{food_data['carbohydrate']} g\")\n",
        "\n",
        "# Visualisasi perbandingan nutrisi\n",
        "st.subheader(\"🔍 Perbandingan Komposisi Nutrisi\")\n",
        "nutrients = {\n",
        "    \"Kalori\": food_data[\"calories\"],\n",
        "    \"Protein (g)\": food_data[\"proteins\"],\n",
        "    \"Lemak (g)\": food_data[\"fat\"],\n",
        "    \"Karbohidrat (g)\": food_data[\"carbohydrate\"]\n",
        "}\n",
        "st.bar_chart(pd.DataFrame(nutrients, index=[\"Nutrisi\"]).T)\n",
        "\n",
        "# Info tambahan\n",
        "st.markdown(\"📌 Dashboard ini membantu melihat kandungan nutrisi dari berbagai jenis makanan khas Indonesia.\")\n"
      ],
      "metadata": {
        "colab": {
          "base_uri": "https://localhost:8080/"
        },
        "id": "rMbm3ZB9wjqS",
        "outputId": "7338e8a7-3837-4cef-aaa7-a5a6d92919de"
      },
      "execution_count": 77,
      "outputs": [
        {
          "output_type": "stream",
          "name": "stdout",
          "text": [
            "Overwriting pages/Pertemuan_7.py\n"
          ]
        }
      ]
    },
    {
      "cell_type": "code",
      "source": [
        "!npm install localtunnel"
      ],
      "metadata": {
        "colab": {
          "base_uri": "https://localhost:8080/"
        },
        "id": "EHovfNdfyQEe",
        "outputId": "b30b6574-8063-4633-aa39-f61a7129eb1c"
      },
      "execution_count": 78,
      "outputs": [
        {
          "output_type": "stream",
          "name": "stdout",
          "text": [
            "\u001b[1G\u001b[0K⠙\u001b[1G\u001b[0K⠹\u001b[1G\u001b[0K⠸\u001b[1G\u001b[0K⠼\u001b[1G\u001b[0K⠴\u001b[1G\u001b[0K⠦\u001b[1G\u001b[0K⠧\u001b[1G\u001b[0K\n",
            "up to date, audited 23 packages in 1s\n",
            "\u001b[1G\u001b[0K⠧\u001b[1G\u001b[0K\n",
            "\u001b[1G\u001b[0K⠧\u001b[1G\u001b[0K3 packages are looking for funding\n",
            "\u001b[1G\u001b[0K⠧\u001b[1G\u001b[0K  run `npm fund` for details\n",
            "\u001b[1G\u001b[0K⠧\u001b[1G\u001b[0K\n",
            "2 \u001b[31m\u001b[1mhigh\u001b[22m\u001b[39m severity vulnerabilities\n",
            "\n",
            "To address all issues (including breaking changes), run:\n",
            "  npm audit fix --force\n",
            "\n",
            "Run `npm audit` for details.\n",
            "\u001b[1G\u001b[0K⠧\u001b[1G\u001b[0K"
          ]
        }
      ]
    },
    {
      "cell_type": "code",
      "source": [
        "!streamlit run /content/app.py &>/content/logs.txt &"
      ],
      "metadata": {
        "id": "EorO-afbyVlW"
      },
      "execution_count": 79,
      "outputs": []
    },
    {
      "cell_type": "code",
      "source": [
        "!cat /content/logs.txt"
      ],
      "metadata": {
        "colab": {
          "base_uri": "https://localhost:8080/"
        },
        "id": "SKIJP61hyX75",
        "outputId": "fad8515f-2af1-4df5-b128-59d599a68710"
      },
      "execution_count": 80,
      "outputs": [
        {
          "output_type": "stream",
          "name": "stdout",
          "text": [
            "\n",
            "Collecting usage statistics. To deactivate, set browser.gatherUsageStats to false.\n",
            "\n",
            "\n",
            "  You can now view your Streamlit app in your browser.\n",
            "\n",
            "  Local URL: http://localhost:8501\n",
            "  Network URL: http://172.28.0.12:8501\n",
            "  External URL: http://35.227.77.180:8501\n",
            "\n"
          ]
        }
      ]
    },
    {
      "cell_type": "code",
      "source": [
        "!npx localtunnel --port 8501"
      ],
      "metadata": {
        "colab": {
          "base_uri": "https://localhost:8080/"
        },
        "id": "j2a9X_vrya-n",
        "outputId": "83bfa295-1ca5-44d0-a3c1-22242dc5ded2"
      },
      "execution_count": null,
      "outputs": [
        {
          "output_type": "stream",
          "name": "stdout",
          "text": [
            "\u001b[1G\u001b[0K⠙\u001b[1G\u001b[0Kyour url is: https://quick-rats-drive.loca.lt\n"
          ]
        }
      ]
    }
  ]
}